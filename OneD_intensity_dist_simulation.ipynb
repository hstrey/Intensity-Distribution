{
 "cells": [
  {
   "cell_type": "code",
   "execution_count": 18,
   "metadata": {},
   "outputs": [
    {
     "name": "stdout",
     "output_type": "stream",
     "text": [
      "['Solarize_Light2', '_classic_test_patch', 'bmh', 'classic', 'dark_background', 'fast', 'fivethirtyeight', 'ggplot', 'grayscale', 'seaborn', 'seaborn-bright', 'seaborn-colorblind', 'seaborn-dark', 'seaborn-dark-palette', 'seaborn-darkgrid', 'seaborn-deep', 'seaborn-muted', 'seaborn-notebook', 'seaborn-paper', 'seaborn-pastel', 'seaborn-poster', 'seaborn-talk', 'seaborn-ticks', 'seaborn-white', 'seaborn-whitegrid', 'tableau-colorblind10']\n"
     ]
    }
   ],
   "source": [
    "%matplotlib inline\n",
    "import numpy as np\n",
    "import matplotlib.pyplot as plt\n",
    "import lmfit as lm\n",
    "import scipy.special as sf\n",
    "from scipy.stats import norm\n",
    "\n",
    "SMALL_SIZE = 16\n",
    "MEDIUM_SIZE = 18\n",
    "BIGGER_SIZE = 20\n",
    "\n",
    "plt.rc('font', size=SMALL_SIZE)          # controls default text sizes\n",
    "plt.rc('axes', titlesize=SMALL_SIZE)     # fontsize of the axes title\n",
    "plt.rc('axes', labelsize=MEDIUM_SIZE)    # fontsize of the x and y labels\n",
    "plt.rc('xtick', labelsize=SMALL_SIZE)    # fontsize of the tick labels\n",
    "plt.rc('ytick', labelsize=SMALL_SIZE)    # fontsize of the tick labels\n",
    "plt.rc('legend', fontsize=SMALL_SIZE)    # legend fontsize\n",
    "plt.rc('figure', titlesize=BIGGER_SIZE)  # fontsize of the figure title\n",
    "\n",
    "SEED = 350107321 # from random.org\n",
    "np.random.seed(SEED)\n",
    "\n",
    "print(plt.style.available)\n",
    "plt.style.use('seaborn-white')"
   ]
  },
  {
   "cell_type": "code",
   "execution_count": 2,
   "metadata": {},
   "outputs": [
    {
     "name": "stdout",
     "output_type": "stream",
     "text": [
      "-19.798994974874372 19.798994974874375\n"
     ]
    }
   ],
   "source": [
    "# the plan is to simulate intensity distribution by using a Poisson distribution\n",
    "# over a small area.  The first thing that we have to figure out is over which length\n",
    "# a normal distribution will be non-zero given double resolution\n",
    "w = 1 # is the way the Gaussian width is defined in optics\n",
    "sigma = w/2\n",
    "ep = 1.0\n",
    "x = np.linspace(-20,20,200)\n",
    "intensity = ep*sigma*np.sqrt(2*np.pi)*norm.pdf(x, loc=0,scale=sigma)\n",
    "#print(intensity)\n",
    "print(x[1],x[-2])"
   ]
  },
  {
   "cell_type": "code",
   "execution_count": 3,
   "metadata": {},
   "outputs": [
    {
     "name": "stdout",
     "output_type": "stream",
     "text": [
      "39.59798994974875\n"
     ]
    }
   ],
   "source": [
    "# set limits and define the length of the box\n",
    "xlim1 = x[1]\n",
    "xlim2 = x[-2]\n",
    "L = xlim2-xlim1\n",
    "print(L)"
   ]
  },
  {
   "cell_type": "code",
   "execution_count": 4,
   "metadata": {},
   "outputs": [
    {
     "name": "stdout",
     "output_type": "stream",
     "text": [
      "157.97312409865782\n"
     ]
    }
   ],
   "source": [
    "# we want a certain number of particles per length\n",
    "# for a particular w which represents an effective size of sqrt(pi)/2*w\n",
    "N_avg = 5\n",
    "N_avg_L = N_avg*L/np.sqrt(np.pi)*np.sqrt(2)/w\n",
    "print(N_avg_L)"
   ]
  },
  {
   "cell_type": "code",
   "execution_count": 5,
   "metadata": {},
   "outputs": [],
   "source": [
    "N_samples = 1000000\n",
    "N_draws = np.random.poisson(N_avg_L,N_samples)\n",
    "int_list = [np.sum(ep*sigma*np.sqrt(2*np.pi)*\n",
    "                   norm.pdf(xlim1 + L*np.random.random(n), loc=0,scale=sigma))\n",
    "                  for n in N_draws]\n",
    "int_list = np.array(int_list)"
   ]
  },
  {
   "cell_type": "code",
   "execution_count": 22,
   "metadata": {},
   "outputs": [
    {
     "name": "stderr",
     "output_type": "stream",
     "text": [
      "/opt/miniconda3/envs/pymc3/lib/python3.7/site-packages/ipykernel_launcher.py:7: MatplotlibDeprecationWarning: savefig() got unexpected keyword argument \"backgroundcolor\" which is no longer supported as of 3.3 and will become an error two minor releases later\n",
      "  import sys\n"
     ]
    },
    {
     "data": {
      "image/png": "[encoded data removed]",
      "text/plain": [
       "<Figure size 576x360 with 1 Axes>"
      ]
     },
     "metadata": {},
     "output_type": "display_data"
    }
   ],
   "source": [
    "plt.figure(figsize=(8,5))\n",
    "_ = plt.hist(int_list,bins=500,density=True,color=\"k\")\n",
    "#plt.ylim((0,1))\n",
    "plt.xlim((0,15))\n",
    "plt.xlabel(r\"$\\Phi$\")\n",
    "plt.ylabel(r\"$p(\\Phi)$\")\n",
    "plt.savefig(\"OneDN5.png\",format='png',dpi=300,bbox_inches='tight',facecolor=\"white\",backgroundcolor=\"white\")\n",
    "#plt.savefig(\"OneDN5.pdf\",format='pdf',dpi=300,bbox_inches='tight',facecolor=\"white\",backgroundcolor=\"white\")"
   ]
  },
  {
   "cell_type": "code",
   "execution_count": 23,
   "metadata": {},
   "outputs": [],
   "source": [
    "int_list.mean()\n",
    "np.savetxt(\"5.csv\",int_list, delimiter=\",\")"
   ]
  },
  {
   "cell_type": "code",
   "execution_count": 8,
   "metadata": {},
   "outputs": [
    {
     "name": "stdout",
     "output_type": "stream",
     "text": [
      "63.18924963946313\n"
     ]
    }
   ],
   "source": [
    "# we want a certain number of particles per length\n",
    "# for a particular w which represents an effective size of sqrt(pi)/2*w\n",
    "N_avg = 2\n",
    "N_avg_L = N_avg*L/np.sqrt(np.pi)*np.sqrt(2)/w\n",
    "print(N_avg_L)\n",
    "\n",
    "N_samples = 1000000\n",
    "N_draws2 = np.random.poisson(N_avg_L,N_samples)\n",
    "int_list2 = [np.sum(ep*sigma*np.sqrt(2*np.pi)*\n",
    "                   norm.pdf(xlim1 + L*np.random.random(n), loc=0,scale=sigma))\n",
    "                  for n in N_draws2]\n",
    "int_list2 = np.array(int_list2)"
   ]
  },
  {
   "cell_type": "code",
   "execution_count": 19,
   "metadata": {},
   "outputs": [
    {
     "name": "stderr",
     "output_type": "stream",
     "text": [
      "/opt/miniconda3/envs/pymc3/lib/python3.7/site-packages/ipykernel_launcher.py:9: MatplotlibDeprecationWarning: savefig() got unexpected keyword argument \"backgroundcolor\" which is no longer supported as of 3.3 and will become an error two minor releases later\n",
      "  if __name__ == '__main__':\n"
     ]
    },
    {
     "data": {
      "image/png": "[encoded data removed]",
      "text/plain": [
       "<Figure size 432x288 with 1 Axes>"
      ]
     },
     "metadata": {},
     "output_type": "display_data"
    }
   ],
   "source": [
    "_ = plt.hist(int_list2,bins=500,density=True)\n",
    "#plt.ylim((0,1))\n",
    "plt.xlim((0,7))\n",
    "plt.xlabel(r\"$\\Phi$\")\n",
    "plt.ylabel(r\"$p(\\Phi)$\")\n",
    "plt.axvline(x=1,linestyle=\"-.\",color=\"k\")\n",
    "plt.axvline(x=2,linestyle=\"-.\",color=\"k\")\n",
    "plt.axvline(x=3,linestyle=\"-.\",color=\"k\")\n",
    "plt.savefig(\"OneDN2.png\",format='png',dpi=300,bbox_inches='tight',facecolor=\"white\",backgroundcolor=\"white\")\n",
    "#plt.savefig(\"OneDN2.pdf\",format='pdf',dpi=300,bbox_inches='tight',facecolor=\"white\",backgroundcolor=\"white\")"
   ]
  },
  {
   "cell_type": "code",
   "execution_count": 25,
   "metadata": {},
   "outputs": [
    {
     "name": "stdout",
     "output_type": "stream",
     "text": [
      "1.9999936939901426\n"
     ]
    }
   ],
   "source": [
    "print(int_list2.mean())\n",
    "np.savetxt(\"2.csv\",int_list2, delimiter=\",\")"
   ]
  },
  {
   "cell_type": "code",
   "execution_count": 10,
   "metadata": {},
   "outputs": [
    {
     "name": "stdout",
     "output_type": "stream",
     "text": [
      "31.594624819731564\n"
     ]
    }
   ],
   "source": [
    "# we want a certain number of particles per length\n",
    "# for a particular w which represents an effective size of sqrt(pi)/2*w\n",
    "N_avg = 1\n",
    "N_avg_L = N_avg*L/np.sqrt(np.pi)*np.sqrt(2)/w\n",
    "print(N_avg_L)\n",
    "\n",
    "N_samples = 1000000\n",
    "N_draws1 = np.random.poisson(N_avg_L,N_samples)\n",
    "int_list1 = [np.sum(ep*sigma*np.sqrt(2*np.pi)*\n",
    "                   norm.pdf(xlim1 + L*np.random.random(n), loc=0,scale=sigma))\n",
    "                  for n in N_draws1]\n",
    "int_list1 = np.array(int_list1)"
   ]
  },
  {
   "cell_type": "code",
   "execution_count": 11,
   "metadata": {},
   "outputs": [
    {
     "name": "stderr",
     "output_type": "stream",
     "text": [
      "/opt/miniconda3/envs/pymc3/lib/python3.7/site-packages/ipykernel_launcher.py:6: MatplotlibDeprecationWarning: savefig() got unexpected keyword argument \"backgroundcolor\" which is no longer supported as of 3.3 and will become an error two minor releases later\n",
      "  \n"
     ]
    },
    {
     "data": {
      "image/png": "[encoded data removed]",
      "text/plain": [
       "<Figure size 432x288 with 1 Axes>"
      ]
     },
     "metadata": {},
     "output_type": "display_data"
    }
   ],
   "source": [
    "_ = plt.hist(int_list1,bins=500,density=True)\n",
    "plt.ylim((0,1))\n",
    "plt.xlim((0,4))\n",
    "plt.xlabel(\"Intensity\")\n",
    "plt.ylabel(\"p(Intensity)\")\n",
    "plt.savefig(\"OneDN1.png\",format='png',dpi=300,bbox_inches='tight',facecolor=\"white\",backgroundcolor=\"white\")\n",
    "#plt.savefig(\"OneDN1.pdf\",format='pdf',dpi=300,bbox_inches='tight',facecolor=\"white\",backgroundcolor=\"white\")"
   ]
  },
  {
   "cell_type": "code",
   "execution_count": 26,
   "metadata": {},
   "outputs": [
    {
     "name": "stdout",
     "output_type": "stream",
     "text": [
      "1.0000801039437879\n"
     ]
    }
   ],
   "source": [
    "print(int_list1.mean())\n",
    "np.savetxt(\"1.csv\",int_list1, delimiter=\",\")"
   ]
  },
  {
   "cell_type": "code",
   "execution_count": 12,
   "metadata": {},
   "outputs": [
    {
     "name": "stdout",
     "output_type": "stream",
     "text": [
      "15.797312409865782\n"
     ]
    }
   ],
   "source": [
    "# we want a certain number of particles per length\n",
    "# for a particular w which represents an effective size of sqrt(pi)/2*w\n",
    "N_avg = 0.5\n",
    "N_avg_L = N_avg*L/np.sqrt(np.pi)*np.sqrt(2)/w\n",
    "print(N_avg_L)\n",
    "\n",
    "N_samples = 1000000\n",
    "N_draws05 = np.random.poisson(N_avg_L,N_samples)\n",
    "int_list05 = [np.sum(ep*sigma*np.sqrt(2*np.pi)*\n",
    "                   norm.pdf(xlim1 + L*np.random.random(n), loc=0,scale=sigma))\n",
    "                  for n in N_draws05]\n",
    "int_list05 = np.array(int_list05)"
   ]
  },
  {
   "cell_type": "code",
   "execution_count": 13,
   "metadata": {},
   "outputs": [
    {
     "name": "stderr",
     "output_type": "stream",
     "text": [
      "/opt/miniconda3/envs/pymc3/lib/python3.7/site-packages/ipykernel_launcher.py:6: MatplotlibDeprecationWarning: savefig() got unexpected keyword argument \"backgroundcolor\" which is no longer supported as of 3.3 and will become an error two minor releases later\n",
      "  \n"
     ]
    },
    {
     "data": {
      "image/png": "[encoded data removed]",
      "text/plain": [
       "<Figure size 432x288 with 1 Axes>"
      ]
     },
     "metadata": {},
     "output_type": "display_data"
    }
   ],
   "source": [
    "_ = plt.hist(int_list05,bins=500,density=True)\n",
    "plt.ylim((0,1))\n",
    "plt.xlim((0,4))\n",
    "plt.xlabel(\"Intensity\")\n",
    "plt.ylabel(\"p(Intensity)\")\n",
    "plt.savefig(\"OneDN05.png\",format='png',dpi=300,bbox_inches='tight',facecolor=\"white\",backgroundcolor=\"white\")\n",
    "#plt.savefig(\"OneDN05.pdf\",format='pdf',dpi=300,bbox_inches='tight',facecolor=\"white\",backgroundcolor=\"white\")"
   ]
  },
  {
   "cell_type": "code",
   "execution_count": 27,
   "metadata": {},
   "outputs": [
    {
     "name": "stdout",
     "output_type": "stream",
     "text": [
      "0.49991315214796184\n"
     ]
    }
   ],
   "source": [
    "print(int_list05.mean())\n",
    "np.savetxt(\"05.csv\",int_list05, delimiter=\",\")"
   ]
  },
  {
   "cell_type": "code",
   "execution_count": 14,
   "metadata": {},
   "outputs": [
    {
     "name": "stdout",
     "output_type": "stream",
     "text": [
      "6.318924963946313\n"
     ]
    }
   ],
   "source": [
    "# we want a certain number of particles per length\n",
    "# for a particular w which represents an effective size of sqrt(pi)/2*w\n",
    "N_avg = 0.2\n",
    "N_avg_L = N_avg*L/np.sqrt(np.pi)*np.sqrt(2)/w\n",
    "print(N_avg_L)\n",
    "\n",
    "N_samples = 1000000\n",
    "N_draws02 = np.random.poisson(N_avg_L,N_samples)\n",
    "int_list02 = [np.sum(ep*sigma*np.sqrt(2*np.pi)*\n",
    "                   norm.pdf(xlim1 + L*np.random.random(n), loc=0,scale=sigma))\n",
    "                  for n in N_draws02]\n",
    "int_list02 = np.array(int_list02)"
   ]
  },
  {
   "cell_type": "code",
   "execution_count": 15,
   "metadata": {},
   "outputs": [
    {
     "name": "stderr",
     "output_type": "stream",
     "text": [
      "/opt/miniconda3/envs/pymc3/lib/python3.7/site-packages/ipykernel_launcher.py:6: MatplotlibDeprecationWarning: savefig() got unexpected keyword argument \"backgroundcolor\" which is no longer supported as of 3.3 and will become an error two minor releases later\n",
      "  \n"
     ]
    },
    {
     "data": {
      "image/png": "[encoded data removed]",
      "text/plain": [
       "<Figure size 432x288 with 1 Axes>"
      ]
     },
     "metadata": {},
     "output_type": "display_data"
    }
   ],
   "source": [
    "_ = plt.hist(int_list02,bins=500,density=True)\n",
    "plt.ylim((0,1))\n",
    "plt.xlim((0,2.5))\n",
    "plt.xlabel(\"Intensity\")\n",
    "plt.ylabel(\"p(Intensity)\")\n",
    "plt.savefig(\"OneDN02.png\",format='png',dpi=300,bbox_inches='tight',facecolor=\"white\",backgroundcolor=\"white\")\n",
    "#plt.savefig(\"OneDN02.pdf\",format='pdf',dpi=300,bbox_inches='tight',facecolor=\"white\",backgroundcolor=\"white\")"
   ]
  },
  {
   "cell_type": "code",
   "execution_count": 28,
   "metadata": {},
   "outputs": [
    {
     "name": "stdout",
     "output_type": "stream",
     "text": [
      "0.20053509421299998\n"
     ]
    }
   ],
   "source": [
    "print(int_list02.mean())\n",
    "np.savetxt(\"02.csv\",int_list02, delimiter=\",\")"
   ]
  },
  {
   "cell_type": "code",
   "execution_count": null,
   "metadata": {},
   "outputs": [],
   "source": []
  }
 ],
 "metadata": {
  "kernelspec": {
   "display_name": "Python 3",
   "language": "python",
   "name": "python3"
  },
  "language_info": {
   "codemirror_mode": {
    "name": "ipython",
    "version": 3
   },
   "file_extension": ".py",
   "mimetype": "text/x-python",
   "name": "python",
   "nbconvert_exporter": "python",
   "pygments_lexer": "ipython3",
   "version": "3.7.9"
  }
 },
 "nbformat": 4,
 "nbformat_minor": 2
}
